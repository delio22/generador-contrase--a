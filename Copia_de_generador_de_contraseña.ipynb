{
  "nbformat": 4,
  "nbformat_minor": 0,
  "metadata": {
    "colab": {
      "provenance": [],
      "authorship_tag": "ABX9TyMQI0JjV74p3l/BXNU2zaJC",
      "include_colab_link": true
    },
    "kernelspec": {
      "name": "python3",
      "display_name": "Python 3"
    },
    "language_info": {
      "name": "python"
    }
  },
  "cells": [
    {
      "cell_type": "markdown",
      "metadata": {
        "id": "view-in-github",
        "colab_type": "text"
      },
      "source": [
        "<a href=\"https://colab.research.google.com/github/delio22/generador-contrase--a/blob/main/Copia_de_generador_de_contrase%C3%B1a.ipynb\" target=\"_parent\"><img src=\"https://colab.research.google.com/assets/colab-badge.svg\" alt=\"Open In Colab\"/></a>"
      ]
    },
    {
      "cell_type": "code",
      "source": [
        "#generador de contraseña\n",
        "import re\n",
        "import secrets\n",
        "import string\n",
        "\n",
        "\n",
        "\n",
        "\n",
        "def generar_contraseña(longitud, nums, caracteres_especiales, mayusculas, minusculas):\n",
        "    # Define los posibles caracteres para la contraseña\n",
        "    letras = string.ascii_letters\n",
        "    digitos = string.digits\n",
        "    simbolos = string.punctuation\n",
        "\n",
        "    # Combina todos los caracteres\n",
        "    todos_los_caracteres = letras + digitos + simbolos\n",
        "\n",
        "    while True:\n",
        "        contraseña = ''\n",
        "        # Genera la contraseña\n",
        "        for _ in range(longitud):\n",
        "            contraseña += secrets.choice(todos_los_caracteres)\n",
        "\n",
        "        restricciones = [\n",
        "            (nums, r'\\d'),\n",
        "            (minusculas, r'[a-z]'),\n",
        "            (mayusculas, r'[A-Z]'),\n",
        "            (caracteres_especiales, fr'[{simbolos}]')\n",
        "        ]\n",
        "\n",
        "        # Verifica las restricciones\n",
        "        count = 0\n",
        "        for restriccion, patron in restricciones:\n",
        "            if restriccion <= len(re.findall(patron, contraseña)):\n",
        "                count += 1\n",
        "\n",
        "        if count == 4:\n",
        "            break\n",
        "\n",
        "    return contraseña\n",
        "\n",
        "nueva_contraseña = generar_contraseña(8, 2, 2, 2, 2)\n",
        "print(nueva_contraseña)"
      ],
      "metadata": {
        "id": "hYZf0y7x1r34",
        "colab": {
          "base_uri": "https://localhost:8080/"
        },
        "outputId": "6e78a492-81c6-41fb-9d97-b03c6110eb52"
      },
      "execution_count": 3,
      "outputs": [
        {
          "output_type": "stream",
          "name": "stdout",
          "text": [
            "r94Vl%;L\n"
          ]
        }
      ]
    },
    {
      "cell_type": "code",
      "source": [
        "def main():\n",
        "  print('Bievenidos al generador automatico de contraseña en google colab y python\\n')\n",
        "  longitud = input('Digite la longitud de la contraseña: ')\n",
        "  numeros = input('Digite la coantidad de numero que desea en su contraseña')\n",
        "  caracteres_especiales = input('Digite la cantidad de caracteres especiales que desea en su contraseña: ')\n",
        "  mayusculas = input('Digite la cantidad de mayusculas que desea en su cantraseña: ')\n",
        "  minusculas = input('Digite la cantidad de minusculas que desea en su contraseña: ')\n",
        "\n",
        "  if longitud.isdigit() and numeros.isdigit() and caracteres_especiales.isdigit() and mayusculas.isdigit() and minusculas.isdigit():\n",
        "    long = int(longitud)\n",
        "    num = int(numeros)\n",
        "    chars = int(caracteres_especiales)\n",
        "    mayus = int(mayusculas)\n",
        "    minus = int(minusculas)\n",
        "    password = generar_contraseña(long, num, chars, mayus, minus)\n",
        "    print(f'la nueva contraseña generada es: {password}')\n",
        "  else:\n",
        "    print('favor de escribir numeros enteros. ')\n",
        "    main()\n",
        ""
      ],
      "metadata": {
        "id": "n94cd17T15Vs"
      },
      "execution_count": 6,
      "outputs": []
    },
    {
      "cell_type": "code",
      "source": [
        "main()"
      ],
      "metadata": {
        "colab": {
          "base_uri": "https://localhost:8080/"
        },
        "id": "_1fi_sqvMHAs",
        "outputId": "321121fc-4d42-41c8-c912-e926639f8691"
      },
      "execution_count": 8,
      "outputs": [
        {
          "output_type": "stream",
          "name": "stdout",
          "text": [
            "Bievenidos al generador automatico de contraseña en google colab y python\n",
            "\n",
            "Digite la longitud de la contraseña: 10\n",
            "Digite la coantidad de numero que desea en su contraseña3\n",
            "Digite la cantidad de caracteres especiales que desea en su contraseña: 3\n",
            "Digite la cantidad de mayusculas que desea en su cantraseña: 2\n",
            "Digite la cantidad de minusculas que desea en su contraseña: 2\n",
            "la nueva contraseña generada es: }?X3c4=5Mg\n"
          ]
        }
      ]
    }
  ]
}